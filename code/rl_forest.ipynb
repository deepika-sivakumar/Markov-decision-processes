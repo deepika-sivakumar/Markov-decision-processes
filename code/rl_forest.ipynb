{
  "nbformat": 4,
  "nbformat_minor": 0,
  "metadata": {
    "colab": {
      "name": "rl_forest.ipynb",
      "provenance": [],
      "collapsed_sections": []
    },
    "kernelspec": {
      "name": "python3",
      "display_name": "Python 3"
    }
  },
  "cells": [
    {
      "cell_type": "code",
      "metadata": {
        "id": "ndrkqKfHlmC7",
        "colab_type": "code",
        "colab": {}
      },
      "source": [
        "pip install pymdptoolbox"
      ],
      "execution_count": 0,
      "outputs": []
    },
    {
      "cell_type": "code",
      "metadata": {
        "id": "qMIeq3AIpeja",
        "colab_type": "code",
        "colab": {}
      },
      "source": [
        "import mdptoolbox, mdptoolbox.example\n",
        "import matplotlib.pyplot as plt"
      ],
      "execution_count": 0,
      "outputs": []
    },
    {
      "cell_type": "markdown",
      "metadata": {
        "id": "KuUli8zhrMp7",
        "colab_type": "text"
      },
      "source": [
        "# Forest Management"
      ]
    },
    {
      "cell_type": "code",
      "metadata": {
        "id": "r30SqkJppjIt",
        "colab_type": "code",
        "colab": {
          "base_uri": "https://localhost:8080/",
          "height": 334
        },
        "outputId": "0a6c481d-ab1a-4f18-fd78-1c95c8752b7e"
      },
      "source": [
        "P, R = mdptoolbox.example.forest(S=5)\n",
        "print('Transition matrix: P')\n",
        "print(P)\n",
        "print('Reward matrix: R')\n",
        "print(R)"
      ],
      "execution_count": 191,
      "outputs": [
        {
          "output_type": "stream",
          "text": [
            "Transition matrix: P\n",
            "[[[0.1 0.9 0.  0.  0. ]\n",
            "  [0.1 0.  0.9 0.  0. ]\n",
            "  [0.1 0.  0.  0.9 0. ]\n",
            "  [0.1 0.  0.  0.  0.9]\n",
            "  [0.1 0.  0.  0.  0.9]]\n",
            "\n",
            " [[1.  0.  0.  0.  0. ]\n",
            "  [1.  0.  0.  0.  0. ]\n",
            "  [1.  0.  0.  0.  0. ]\n",
            "  [1.  0.  0.  0.  0. ]\n",
            "  [1.  0.  0.  0.  0. ]]]\n",
            "Reward matrix: R\n",
            "[[0. 0.]\n",
            " [0. 1.]\n",
            " [0. 1.]\n",
            " [0. 1.]\n",
            " [4. 2.]]\n"
          ],
          "name": "stdout"
        }
      ]
    },
    {
      "cell_type": "code",
      "metadata": {
        "id": "R1tnI2pR0Fbt",
        "colab_type": "code",
        "colab": {}
      },
      "source": [
        "discount = 0.96"
      ],
      "execution_count": 0,
      "outputs": []
    },
    {
      "cell_type": "markdown",
      "metadata": {
        "id": "-Ai9F-QjrPSk",
        "colab_type": "text"
      },
      "source": [
        "# Value Iteration"
      ]
    },
    {
      "cell_type": "code",
      "metadata": {
        "id": "vJDcfHcrpw3s",
        "colab_type": "code",
        "colab": {}
      },
      "source": [
        "vi = mdptoolbox.mdp.ValueIteration(transitions=P, reward=R, discount= discount)\n",
        "vi.run()"
      ],
      "execution_count": 0,
      "outputs": []
    },
    {
      "cell_type": "code",
      "metadata": {
        "id": "7Q6XqCxNqk_A",
        "colab_type": "code",
        "colab": {
          "base_uri": "https://localhost:8080/",
          "height": 123
        },
        "outputId": "f6e0bfe3-77c6-4b84-84b2-4fae9d5cd585"
      },
      "source": [
        "vi_val = vi.V\n",
        "vi_iter = vi.iter\n",
        "vi_time = vi.time\n",
        "print('The optimal value function')\n",
        "print(vi_val)\n",
        "print('The optimal policy')\n",
        "print(vi.policy)\n",
        "print('Iterations taken: ', vi_iter)\n",
        "print('Time taken: ', vi_time)"
      ],
      "execution_count": 194,
      "outputs": [
        {
          "output_type": "stream",
          "text": [
            "The optimal value function\n",
            "(4.657780862484479, 7.237671038484479, 10.22365503848448, 13.67965503848448, 17.67965503848448)\n",
            "The optimal policy\n",
            "(0, 0, 0, 0, 0)\n",
            "Iterations taken:  6\n",
            "Time taken:  0.0002944469451904297\n"
          ],
          "name": "stdout"
        }
      ]
    },
    {
      "cell_type": "code",
      "metadata": {
        "id": "d170go3oy_IB",
        "colab_type": "code",
        "colab": {
          "base_uri": "https://localhost:8080/",
          "height": 123
        },
        "outputId": "11114801-2a23-49cc-c831-8619db2f7743"
      },
      "source": [
        "vi2 = mdptoolbox.mdp.ValueIteration(transitions=P, reward=R, discount= discount)\n",
        "vi2.run()\n",
        "print('The optimal value function')\n",
        "print(vi2.V)\n",
        "print('The optimal policy')\n",
        "print(vi2.policy)\n",
        "print('Iterations taken: ', vi2.iter)\n",
        "print('Time taken: ', vi2.time)"
      ],
      "execution_count": 195,
      "outputs": [
        {
          "output_type": "stream",
          "text": [
            "The optimal value function\n",
            "(4.657780862484479, 7.237671038484479, 10.22365503848448, 13.67965503848448, 17.67965503848448)\n",
            "The optimal policy\n",
            "(0, 0, 0, 0, 0)\n",
            "Iterations taken:  6\n",
            "Time taken:  0.0007672309875488281\n"
          ],
          "name": "stdout"
        }
      ]
    },
    {
      "cell_type": "markdown",
      "metadata": {
        "id": "x7S9kZj0rR9P",
        "colab_type": "text"
      },
      "source": [
        "# Policy Iteration"
      ]
    },
    {
      "cell_type": "code",
      "metadata": {
        "id": "Z8XCpdo7qtcX",
        "colab_type": "code",
        "colab": {}
      },
      "source": [
        "pi = mdptoolbox.mdp.PolicyIteration(transitions=P, reward=R, discount= discount)\n",
        "pi.run()"
      ],
      "execution_count": 0,
      "outputs": []
    },
    {
      "cell_type": "code",
      "metadata": {
        "id": "XzWx2QFIra79",
        "colab_type": "code",
        "colab": {
          "base_uri": "https://localhost:8080/",
          "height": 123
        },
        "outputId": "40af6549-0e92-4ce0-b7bb-22c9347a5f78"
      },
      "source": [
        "pi_val = pi.V\n",
        "pi_iter = pi.iter\n",
        "pi_time = pi.time\n",
        "print('The optimal value function')\n",
        "print(pi_val)\n",
        "print('The optimal policy')\n",
        "print(pi.policy)\n",
        "print('Iterations taken: ', pi_iter)\n",
        "print('Time taken: ', pi_time)"
      ],
      "execution_count": 197,
      "outputs": [
        {
          "output_type": "stream",
          "text": [
            "The optimal value function\n",
            "(55.72562780159999, 58.30551797759999, 61.29150197759999, 64.7475019776, 68.7475019776)\n",
            "The optimal policy\n",
            "(0, 0, 0, 0, 0)\n",
            "Iterations taken:  4\n",
            "Time taken:  0.0049436092376708984\n"
          ],
          "name": "stdout"
        }
      ]
    },
    {
      "cell_type": "markdown",
      "metadata": {
        "id": "2ilZS1szs198",
        "colab_type": "text"
      },
      "source": [
        "# Q Learning"
      ]
    },
    {
      "cell_type": "code",
      "metadata": {
        "id": "xDE3o5pFs3TD",
        "colab_type": "code",
        "colab": {}
      },
      "source": [
        "ql = mdptoolbox.mdp.QLearning(P, R, discount=discount)\n",
        "ql.run()"
      ],
      "execution_count": 0,
      "outputs": []
    },
    {
      "cell_type": "code",
      "metadata": {
        "id": "sTySiteUs6qL",
        "colab_type": "code",
        "colab": {
          "base_uri": "https://localhost:8080/",
          "height": 211
        },
        "outputId": "91a80cb5-8edb-41f8-9659-591707abe807"
      },
      "source": [
        "ql_val = ql.V\n",
        "print('learned Q matrix (SxA)')\n",
        "print(ql.Q)\n",
        "print('The optimal value function')\n",
        "print(ql_val)\n",
        "print('The optimal policy')\n",
        "print(ql.policy)\n",
        "#ql_iter = ql.iter\n",
        "ql_time = ql.time\n",
        "#print('Iterations taken: ', ql_iter)\n",
        "print('Time taken: ', ql_time)"
      ],
      "execution_count": 199,
      "outputs": [
        {
          "output_type": "stream",
          "text": [
            "learned Q matrix (SxA)\n",
            "[[11.21236675 10.2984812 ]\n",
            " [ 9.20886247 11.75016359]\n",
            " [ 0.31178601 10.88312445]\n",
            " [ 4.34874779  0.        ]\n",
            " [18.79588041  3.99140442]]\n",
            "The optimal value function\n",
            "(11.212366746442626, 11.75016359452366, 10.883124450637602, 4.348747794332574, 18.795880406450454)\n",
            "The optimal policy\n",
            "(0, 1, 1, 0, 0)\n",
            "Time taken:  0.264162540435791\n"
          ],
          "name": "stdout"
        }
      ]
    },
    {
      "cell_type": "markdown",
      "metadata": {
        "id": "F91dQkFXrmgj",
        "colab_type": "text"
      },
      "source": [
        "# Comparison"
      ]
    },
    {
      "cell_type": "code",
      "metadata": {
        "id": "HZg7MrKHrk5Q",
        "colab_type": "code",
        "colab": {
          "base_uri": "https://localhost:8080/",
          "height": 313
        },
        "outputId": "ae3b20a2-8671-44d8-a154-07ea1009e22a"
      },
      "source": [
        "iters = [vi_iter, pi_iter, 4]\n",
        "algos = ['VI', 'PI', 'Q Learning']\n",
        "ticks = [0,1,2]\n",
        "plt.bar(ticks, height= iters,width=0.6, color=['cornflowerblue', 'orange', 'mediumseagreen']) \n",
        "plt.xticks(ticks, algos)\n",
        "plt.xlabel('Algorithms')\n",
        "plt.ylabel('Iterations taken to converge')\n",
        "plt.title('Forest Management - Algorithms - Convergence Iterations')"
      ],
      "execution_count": 200,
      "outputs": [
        {
          "output_type": "execute_result",
          "data": {
            "text/plain": [
              "Text(0.5, 1.0, 'Forest Management - Algorithms - Convergence Iterations')"
            ]
          },
          "metadata": {
            "tags": []
          },
          "execution_count": 200
        },
        {
          "output_type": "display_data",
          "data": {
            "image/png": "[encoded data removed]",
            "text/plain": [
              "<Figure size 432x288 with 1 Axes>"
            ]
          },
          "metadata": {
            "tags": [],
            "needs_background": "light"
          }
        }
      ]
    },
    {
      "cell_type": "code",
      "metadata": {
        "id": "H_upq28wsQjA",
        "colab_type": "code",
        "colab": {
          "base_uri": "https://localhost:8080/",
          "height": 313
        },
        "outputId": "e6c6b7a0-b8a1-4043-df37-3bd7c365be27"
      },
      "source": [
        "time = [vi_time, pi_time, ql_time]\n",
        "plt.bar(ticks, height= time,width=0.6, color=['cornflowerblue', 'orange', 'mediumseagreen']) \n",
        "plt.xticks(ticks, algos)\n",
        "plt.xlabel('Algorithms')\n",
        "plt.ylabel('Time taken to converge')\n",
        "plt.title('Forest Management - Algorithms - Convergence Time')"
      ],
      "execution_count": 201,
      "outputs": [
        {
          "output_type": "execute_result",
          "data": {
            "text/plain": [
              "Text(0.5, 1.0, 'Forest Management - Algorithms - Convergence Time')"
            ]
          },
          "metadata": {
            "tags": []
          },
          "execution_count": 201
        },
        {
          "output_type": "display_data",
          "data": {
            "image/png": "[encoded data removed]",
            "text/plain": [
              "<Figure size 432x288 with 1 Axes>"
            ]
          },
          "metadata": {
            "tags": [],
            "needs_background": "light"
          }
        }
      ]
    },
    {
      "cell_type": "code",
      "metadata": {
        "id": "GUYlx0kSvVoL",
        "colab_type": "code",
        "colab": {
          "base_uri": "https://localhost:8080/",
          "height": 295
        },
        "outputId": "cd83c12d-119c-4d84-dafe-0f6f9712e871"
      },
      "source": [
        "\"\"\"\n",
        "vi_val = [4.657780862484479, 7.237671038484479, 10.22365503848448, 13.67965503848448, 17.67965503848448]\n",
        "pi_val = [55.72562780159999, 58.30551797759999, 61.29150197759999, 64.7475019776, 68.7475019776]\n",
        "ql_val = [11.20289474742754, 11.736413468142702, 11.055029279665424, 2.2482872801255396, 6.906188780651046]\n",
        "\"\"\"\n",
        "states = [0,1,2,3,4]\n",
        "plt.plot(states, vi_val, label='VI', marker='o')\n",
        "plt.plot(states, pi_val, label='PI', marker='o')\n",
        "plt.plot(states, ql_val, label='Q Learning', marker='o')\n",
        "plt.title('Forest - Optimal Value function')\n",
        "plt.legend()\n",
        "plt.xlabel('States')\n",
        "plt.ylabel('Value')\n",
        "plt.grid()"
      ],
      "execution_count": 202,
      "outputs": [
        {
          "output_type": "display_data",
          "data": {
            "image/png": "[encoded data removed]",
            "text/plain": [
              "<Figure size 432x288 with 1 Axes>"
            ]
          },
          "metadata": {
            "tags": [],
            "needs_background": "light"
          }
        }
      ]
    }
  ]
}